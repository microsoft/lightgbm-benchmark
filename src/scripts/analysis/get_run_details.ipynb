{
  "cells": [
    {
      "cell_type": "code",
      "source": [
        "import azureml.core\r\n",
        "from azureml.core import Workspace, Experiment, Run\r\n",
        "from azureml.core import ScriptRunConfig\r\n",
        "\r\n",
        "ws = Workspace.from_config()\r\n"
      ],
      "outputs": [],
      "execution_count": 1,
      "metadata": {
        "gather": {
          "logged": 1632788704585
        }
      }
    },
    {
      "cell_type": "code",
      "source": [
        "exp = Experiment(workspace=ws, name=\"lightgbmbenchmark-dev\")\r\n",
        "runs = list(exp.get_runs(tags={\"benchmark_model\" : \"synthetic-regr-4000cols-model-500trees\"}, include_children=True))\r\n",
        "print(runs)"
      ],
      "outputs": [
        {
          "output_type": "stream",
          "name": "stdout",
          "text": "[Run(Experiment: lightgbmbenchmark-dev,\nId: f6ea66e7-6d45-4b8e-9c73-6efd8502bf90,\nType: azureml.StepRun,\nStatus: Completed), Run(Experiment: lightgbmbenchmark-dev,\nId: 16f93eab-0033-4eb3-ac35-059d8b4d00d0,\nType: azureml.StepRun,\nStatus: Completed), Run(Experiment: lightgbmbenchmark-dev,\nId: 484f293a-ae81-4b15-8295-189d8a2d89d4,\nType: azureml.StepRun,\nStatus: Completed), Run(Experiment: lightgbmbenchmark-dev,\nId: f006cac4-65ef-47a1-9347-751173f79b00,\nType: azureml.StepRun,\nStatus: Completed)]\n"
        }
      ],
      "execution_count": 2,
      "metadata": {
        "jupyter": {
          "source_hidden": false,
          "outputs_hidden": false
        },
        "nteract": {
          "transient": {
            "deleting": false
          }
        },
        "gather": {
          "logged": 1632788706179
        }
      }
    },
    {
      "cell_type": "code",
      "source": [
        "for run in runs:\r\n",
        "    print(f'\\nDataset: {run.tags[\"benchmark_dataset\"]}\\nModel: {run.tags[\"benchmark_model\"]}\\nFramework: {run.tags[\"framework\"]}\\nName: {run.name}\\n{run.get_metrics()}\\nModule ID: {run.properties[\"azureml.moduleid\"]}')"
      ],
      "outputs": [
        {
          "output_type": "stream",
          "name": "stdout",
          "text": "\nDataset: synthetic-regr-4000cols-inference-1000000rows\nModel: synthetic-regr-4000cols-model-500trees\nFramework: treelite_python\nName: treelite_score\n{'time_data_loading': 919.8878483772278, 'time_inferencing': 67.5014796257019}\nModule ID: 834b298f-e475-44cb-8fa4-7f78cfbaa27b\n\nDataset: synthetic-regr-4000cols-inference-1000000rows\nModel: synthetic-regr-4000cols-model-500trees\nFramework: lightgbm_python\nName: lightgbm_python_score\n{'time_data_loading': 263.789005279541, 'time_inferencing': 182.43876385688782}\nModule ID: 60e024ef-b3d7-416d-9875-e9a8a8ffa4a8\n\nDataset: synthetic-regr-4000cols-inference-1000000rows\nModel: synthetic-regr-4000cols-model-500trees\nFramework: lightgbm_python\nName: lightgbm_python_custom_score\n{'time_data_loading': 257.0015068054199, 'time_inferencing': 172.96540188789368}\nModule ID: 0a2f7e2d-419f-439c-bd55-96bd93ca2f37\n\nDataset: synthetic-regr-4000cols-inference-1000000rows\nModel: synthetic-regr-4000cols-model-500trees\nFramework: treelite_python\nName: treelite_compile\n{'treelite_model_conversion': 7.840428590774536}\nModule ID: 01482e67-a91d-4410-9cc9-410f31c43cbc\n"
        }
      ],
      "execution_count": 3,
      "metadata": {
        "jupyter": {
          "source_hidden": false,
          "outputs_hidden": false
        },
        "nteract": {
          "transient": {
            "deleting": false
          }
        },
        "gather": {
          "logged": 1632788708781
        }
      }
    },
    {
      "cell_type": "code",
      "source": [
        "data_colss = [4000]\r\n",
        "model_sizes = [500, 1000, 5000]\r\n",
        "\r\n",
        "for data_cols in data_colss:\r\n",
        "    for model_size in model_sizes:\r\n",
        "        model_string = f\"synthetic-regr-{data_cols}cols-model-{model_size}trees\"\r\n",
        "        runs = list(exp.get_runs(tags={\"benchmark_model\" : model_string}, include_children=True))\r\n",
        "        print(f'\\n\\nModel string: {model_string}, Runs: {len(runs)}')\r\n",
        "        for run in runs:\r\n",
        "            print(f'\\nDataset: {run.tags[\"benchmark_dataset\"]}\\nModel: {run.tags[\"benchmark_model\"]}\\nFramework: {run.tags[\"framework\"]}\\nName: {run.name}\\n{run.get_metrics()}\\nModule ID: {run.properties[\"azureml.moduleid\"]}')"
      ],
      "outputs": [
        {
          "output_type": "stream",
          "name": "stdout",
          "text": "\n\nModel string: synthetic-regr-4000cols-model-500trees, Runs: 4\n\nDataset: synthetic-regr-4000cols-inference-1000000rows\nModel: synthetic-regr-4000cols-model-500trees\nFramework: treelite_python\nName: treelite_score\n{'time_data_loading': 919.8878483772278, 'time_inferencing': 67.5014796257019}\nModule ID: 834b298f-e475-44cb-8fa4-7f78cfbaa27b\n\nDataset: synthetic-regr-4000cols-inference-1000000rows\nModel: synthetic-regr-4000cols-model-500trees\nFramework: lightgbm_python\nName: lightgbm_python_score\n{'time_data_loading': 263.789005279541, 'time_inferencing': 182.43876385688782}\nModule ID: 60e024ef-b3d7-416d-9875-e9a8a8ffa4a8\n\nDataset: synthetic-regr-4000cols-inference-1000000rows\nModel: synthetic-regr-4000cols-model-500trees\nFramework: lightgbm_python\nName: lightgbm_python_custom_score\n{'time_data_loading': 257.0015068054199, 'time_inferencing': 172.96540188789368}\nModule ID: 0a2f7e2d-419f-439c-bd55-96bd93ca2f37\n\nDataset: synthetic-regr-4000cols-inference-1000000rows\nModel: synthetic-regr-4000cols-model-500trees\nFramework: treelite_python\nName: treelite_compile\n{'treelite_model_conversion': 7.840428590774536}\nModule ID: 01482e67-a91d-4410-9cc9-410f31c43cbc\n\n\nModel string: synthetic-regr-4000cols-model-1000trees, Runs: 4\n\nDataset: synthetic-regr-4000cols-inference-1000000rows\nModel: synthetic-regr-4000cols-model-1000trees\nFramework: treelite_python\nName: treelite_score\n{'time_data_loading': 907.0967092514038, 'time_inferencing': 140.77459740638733}\nModule ID: 834b298f-e475-44cb-8fa4-7f78cfbaa27b\n\nDataset: synthetic-regr-4000cols-inference-1000000rows\nModel: synthetic-regr-4000cols-model-1000trees\nFramework: lightgbm_python\nName: lightgbm_python_custom_score\n{'time_data_loading': 263.6194989681244, 'time_inferencing': 220.78383469581604}\nModule ID: 0a2f7e2d-419f-439c-bd55-96bd93ca2f37\n\nDataset: synthetic-regr-4000cols-inference-1000000rows\nModel: synthetic-regr-4000cols-model-1000trees\nFramework: lightgbm_python\nName: lightgbm_python_score\n{'time_data_loading': 273.8412597179413, 'time_inferencing': 258.0937280654907}\nModule ID: 60e024ef-b3d7-416d-9875-e9a8a8ffa4a8\n\nDataset: synthetic-regr-4000cols-inference-1000000rows\nModel: synthetic-regr-4000cols-model-1000trees\nFramework: treelite_python\nName: treelite_compile\n{'treelite_model_conversion': 9.851431608200073}\nModule ID: 01482e67-a91d-4410-9cc9-410f31c43cbc\n\n\nModel string: synthetic-regr-4000cols-model-5000trees, Runs: 4\n\nDataset: synthetic-regr-4000cols-inference-1000000rows\nModel: synthetic-regr-4000cols-model-5000trees\nFramework: treelite_python\nName: treelite_score\n{'time_data_loading': 922.8380732536316, 'time_inferencing': 655.7717959880829}\nModule ID: 834b298f-e475-44cb-8fa4-7f78cfbaa27b\n\nDataset: synthetic-regr-4000cols-inference-1000000rows\nModel: synthetic-regr-4000cols-model-5000trees\nFramework: lightgbm_python\nName: lightgbm_python_score\n{'time_data_loading': 256.16220211982727, 'time_inferencing': 764.7949464321136}\nModule ID: 60e024ef-b3d7-416d-9875-e9a8a8ffa4a8\n\nDataset: synthetic-regr-4000cols-inference-1000000rows\nModel: synthetic-regr-4000cols-model-5000trees\nFramework: treelite_python\nName: treelite_compile\n{'treelite_model_conversion': 55.790712118148804}\nModule ID: 01482e67-a91d-4410-9cc9-410f31c43cbc\n\nDataset: synthetic-regr-4000cols-inference-1000000rows\nModel: synthetic-regr-4000cols-model-5000trees\nFramework: lightgbm_python\nName: lightgbm_python_custom_score\n{'time_data_loading': 266.57737708091736, 'time_inferencing': 591.5924532413483}\nModule ID: 0a2f7e2d-419f-439c-bd55-96bd93ca2f37\n"
        }
      ],
      "execution_count": 7,
      "metadata": {
        "jupyter": {
          "source_hidden": false,
          "outputs_hidden": false
        },
        "nteract": {
          "transient": {
            "deleting": false
          }
        },
        "gather": {
          "logged": 1632788767714
        }
      }
    },
    {
      "cell_type": "code",
      "source": [
        "print(run.get_details()[\"inputDatasets\"])\r\n"
      ],
      "outputs": [
        {
          "output_type": "stream",
          "name": "stdout",
          "text": "[{'dataset': {'id': 'ffb3a81e-7e65-4718-9d2f-7931c6d04975'}, 'consumptionDetails': {'type': 'RunInput', 'inputName': 'data', 'mechanism': 'Mount'}}, {'dataset': {'id': 'f4735711-835a-4c49-8431-15f3adee9b6f'}, 'consumptionDetails': {'type': 'RunInput', 'inputName': 'model', 'mechanism': 'Mount'}}]\n"
        }
      ],
      "execution_count": 8,
      "metadata": {
        "jupyter": {
          "source_hidden": false,
          "outputs_hidden": false
        },
        "nteract": {
          "transient": {
            "deleting": false
          }
        },
        "gather": {
          "logged": 1632788779428
        }
      }
    },
    {
      "cell_type": "code",
      "source": [],
      "outputs": [],
      "execution_count": null,
      "metadata": {
        "jupyter": {
          "source_hidden": false,
          "outputs_hidden": false
        },
        "nteract": {
          "transient": {
            "deleting": false
          }
        }
      }
    }
  ],
  "metadata": {
    "kernelspec": {
      "name": "python3-azureml",
      "language": "python",
      "display_name": "Python 3.6 - AzureML"
    },
    "language_info": {
      "name": "python",
      "version": "3.6.9",
      "mimetype": "text/x-python",
      "codemirror_mode": {
        "name": "ipython",
        "version": 3
      },
      "pygments_lexer": "ipython3",
      "nbconvert_exporter": "python",
      "file_extension": ".py"
    },
    "kernel_info": {
      "name": "python3-azureml"
    },
    "nteract": {
      "version": "nteract-front-end@1.0.0"
    }
  },
  "nbformat": 4,
  "nbformat_minor": 2
}