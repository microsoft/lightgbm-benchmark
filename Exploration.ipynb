{
 "cells": [
  {
   "cell_type": "code",
   "execution_count": 26,
   "metadata": {},
   "outputs": [],
   "source": [
    "import pandas as pd\n",
    "import lightgbm\n",
    "import timeit"
   ]
  },
  {
   "cell_type": "code",
   "execution_count": 28,
   "metadata": {},
   "outputs": [
    {
     "data": {
      "text/html": [
       "<div>\n",
       "<style scoped>\n",
       "    .dataframe tbody tr th:only-of-type {\n",
       "        vertical-align: middle;\n",
       "    }\n",
       "\n",
       "    .dataframe tbody tr th {\n",
       "        vertical-align: top;\n",
       "    }\n",
       "\n",
       "    .dataframe thead th {\n",
       "        text-align: right;\n",
       "    }\n",
       "</style>\n",
       "<table border=\"1\" class=\"dataframe\">\n",
       "  <thead>\n",
       "    <tr style=\"text-align: right;\">\n",
       "      <th></th>\n",
       "      <th>0</th>\n",
       "      <th>1</th>\n",
       "      <th>2</th>\n",
       "      <th>3</th>\n",
       "      <th>4</th>\n",
       "      <th>5</th>\n",
       "      <th>6</th>\n",
       "      <th>7</th>\n",
       "      <th>8</th>\n",
       "      <th>9</th>\n",
       "      <th>...</th>\n",
       "      <th>4854</th>\n",
       "      <th>4855</th>\n",
       "      <th>4856</th>\n",
       "      <th>4857</th>\n",
       "      <th>4858</th>\n",
       "      <th>4859</th>\n",
       "      <th>4860</th>\n",
       "      <th>4861</th>\n",
       "      <th>4862</th>\n",
       "      <th>4863</th>\n",
       "    </tr>\n",
       "  </thead>\n",
       "  <tbody>\n",
       "    <tr>\n",
       "      <th>0</th>\n",
       "      <td>129</td>\n",
       "      <td>612.0</td>\n",
       "      <td>153000.0</td>\n",
       "      <td>6000.0</td>\n",
       "      <td>0.0</td>\n",
       "      <td>0.0</td>\n",
       "      <td>118470648.0</td>\n",
       "      <td>0.0</td>\n",
       "      <td>628.0</td>\n",
       "      <td>6000.0</td>\n",
       "      <td>...</td>\n",
       "      <td>0.0</td>\n",
       "      <td>132.0</td>\n",
       "      <td>140.0</td>\n",
       "      <td>137.0</td>\n",
       "      <td>135.0</td>\n",
       "      <td>0.0</td>\n",
       "      <td>0.0</td>\n",
       "      <td>0.0</td>\n",
       "      <td>0.0</td>\n",
       "      <td>0.0</td>\n",
       "    </tr>\n",
       "    <tr>\n",
       "      <th>1</th>\n",
       "      <td>120</td>\n",
       "      <td>0.0</td>\n",
       "      <td>0.0</td>\n",
       "      <td>0.0</td>\n",
       "      <td>0.0</td>\n",
       "      <td>0.0</td>\n",
       "      <td>0.0</td>\n",
       "      <td>0.0</td>\n",
       "      <td>0.0</td>\n",
       "      <td>0.0</td>\n",
       "      <td>...</td>\n",
       "      <td>0.0</td>\n",
       "      <td>0.0</td>\n",
       "      <td>0.0</td>\n",
       "      <td>0.0</td>\n",
       "      <td>0.0</td>\n",
       "      <td>0.0</td>\n",
       "      <td>0.0</td>\n",
       "      <td>0.0</td>\n",
       "      <td>0.0</td>\n",
       "      <td>0.0</td>\n",
       "    </tr>\n",
       "    <tr>\n",
       "      <th>2</th>\n",
       "      <td>120</td>\n",
       "      <td>0.0</td>\n",
       "      <td>0.0</td>\n",
       "      <td>0.0</td>\n",
       "      <td>0.0</td>\n",
       "      <td>0.0</td>\n",
       "      <td>0.0</td>\n",
       "      <td>0.0</td>\n",
       "      <td>0.0</td>\n",
       "      <td>0.0</td>\n",
       "      <td>...</td>\n",
       "      <td>0.0</td>\n",
       "      <td>0.0</td>\n",
       "      <td>0.0</td>\n",
       "      <td>0.0</td>\n",
       "      <td>0.0</td>\n",
       "      <td>0.0</td>\n",
       "      <td>0.0</td>\n",
       "      <td>0.0</td>\n",
       "      <td>0.0</td>\n",
       "      <td>0.0</td>\n",
       "    </tr>\n",
       "    <tr>\n",
       "      <th>3</th>\n",
       "      <td>76</td>\n",
       "      <td>0.0</td>\n",
       "      <td>0.0</td>\n",
       "      <td>0.0</td>\n",
       "      <td>0.0</td>\n",
       "      <td>0.0</td>\n",
       "      <td>0.0</td>\n",
       "      <td>0.0</td>\n",
       "      <td>0.0</td>\n",
       "      <td>0.0</td>\n",
       "      <td>...</td>\n",
       "      <td>0.0</td>\n",
       "      <td>0.0</td>\n",
       "      <td>0.0</td>\n",
       "      <td>0.0</td>\n",
       "      <td>0.0</td>\n",
       "      <td>0.0</td>\n",
       "      <td>0.0</td>\n",
       "      <td>0.0</td>\n",
       "      <td>0.0</td>\n",
       "      <td>0.0</td>\n",
       "    </tr>\n",
       "    <tr>\n",
       "      <th>4</th>\n",
       "      <td>120</td>\n",
       "      <td>0.0</td>\n",
       "      <td>0.0</td>\n",
       "      <td>0.0</td>\n",
       "      <td>0.0</td>\n",
       "      <td>0.0</td>\n",
       "      <td>0.0</td>\n",
       "      <td>0.0</td>\n",
       "      <td>0.0</td>\n",
       "      <td>0.0</td>\n",
       "      <td>...</td>\n",
       "      <td>0.0</td>\n",
       "      <td>0.0</td>\n",
       "      <td>0.0</td>\n",
       "      <td>0.0</td>\n",
       "      <td>0.0</td>\n",
       "      <td>0.0</td>\n",
       "      <td>0.0</td>\n",
       "      <td>0.0</td>\n",
       "      <td>0.0</td>\n",
       "      <td>0.0</td>\n",
       "    </tr>\n",
       "  </tbody>\n",
       "</table>\n",
       "<p>5 rows × 4864 columns</p>\n",
       "</div>"
      ],
      "text/plain": [
       "   0      1         2       3     4     5            6     7      8     \\\n",
       "0   129  612.0  153000.0  6000.0   0.0   0.0  118470648.0   0.0  628.0   \n",
       "1   120    0.0       0.0     0.0   0.0   0.0          0.0   0.0    0.0   \n",
       "2   120    0.0       0.0     0.0   0.0   0.0          0.0   0.0    0.0   \n",
       "3    76    0.0       0.0     0.0   0.0   0.0          0.0   0.0    0.0   \n",
       "4   120    0.0       0.0     0.0   0.0   0.0          0.0   0.0    0.0   \n",
       "\n",
       "     9     ...  4854   4855   4856   4857   4858  4859  4860  4861  4862  4863  \n",
       "0  6000.0  ...   0.0  132.0  140.0  137.0  135.0   0.0   0.0   0.0   0.0   0.0  \n",
       "1     0.0  ...   0.0    0.0    0.0    0.0    0.0   0.0   0.0   0.0   0.0   0.0  \n",
       "2     0.0  ...   0.0    0.0    0.0    0.0    0.0   0.0   0.0   0.0   0.0   0.0  \n",
       "3     0.0  ...   0.0    0.0    0.0    0.0    0.0   0.0   0.0   0.0   0.0   0.0  \n",
       "4     0.0  ...   0.0    0.0    0.0    0.0    0.0   0.0   0.0   0.0   0.0   0.0  \n",
       "\n",
       "[5 rows x 4864 columns]"
      ]
     },
     "execution_count": 28,
     "metadata": {},
     "output_type": "execute_result"
    }
   ],
   "source": [
    "model_path = './NiR4_OFE_LGBM_model.txt'\n",
    "data_path = './File_0-csv.txt'\n",
    "data = pd.read_csv(data_path, header=None)\n",
    "data.head()"
   ]
  },
  {
   "cell_type": "code",
   "execution_count": 30,
   "metadata": {},
   "outputs": [
    {
     "name": "stdout",
     "output_type": "stream",
     "text": [
      "[LightGBM] [Info] Construct bin mappers from text data time 2.14 seconds\n"
     ]
    }
   ],
   "source": [
    "booster = lightgbm.Booster(model_file=model_path)\n",
    "\n",
    "inference_data = lightgbm.Dataset(data_path, free_raw_data=False).construct()\n",
    "inference_raw_data = inference_data.get_data()"
   ]
  },
  {
   "cell_type": "code",
   "execution_count": 43,
   "metadata": {},
   "outputs": [
    {
     "data": {
      "text/plain": [
       "array([ 1.41436096, -0.27520206, -0.32896408, ...,  0.27021392,\n",
       "        0.06719871,  2.11317219])"
      ]
     },
     "execution_count": 43,
     "metadata": {},
     "output_type": "execute_result"
    }
   ],
   "source": [
    "predictions_array_lgbmpython = booster.predict(\n",
    "    data=inference_raw_data,\n",
    "    num_threads=1,\n",
    "    predict_disable_shape_check=True,\n",
    ")\n",
    "predictions_array_lgbmpython"
   ]
  },
  {
   "cell_type": "code",
   "execution_count": 37,
   "metadata": {},
   "outputs": [
    {
     "name": "stdout",
     "output_type": "stream",
     "text": [
      "[13:57:51] D:\\a\\1\\s\\src\\compiler\\ast_native.cc:711: Using ASTNativeCompiler\n",
      "[13:57:51] D:\\a\\1\\s\\src\\compiler\\ast\\split.cc:29: Parallel compilation enabled; member trees will be divided into 16 translation units.\n",
      "[13:57:55] D:\\a\\1\\s\\src\\c_api\\c_api.cc:92: Code generation finished. Writing code to files...\n",
      "[13:57:55] D:\\a\\1\\s\\src\\c_api\\c_api.cc:97: Writing file tu2.c...\n",
      "[13:57:55] D:\\a\\1\\s\\src\\c_api\\c_api.cc:97: Writing file main.c...\n",
      "[13:57:55] D:\\a\\1\\s\\src\\c_api\\c_api.cc:97: Writing file header.h...\n",
      "[13:57:55] D:\\a\\1\\s\\src\\c_api\\c_api.cc:97: Writing file tu5.c...\n",
      "[13:57:55] D:\\a\\1\\s\\src\\c_api\\c_api.cc:97: Writing file tu0.c...\n",
      "[13:57:55] D:\\a\\1\\s\\src\\c_api\\c_api.cc:97: Writing file tu1.c...\n",
      "[13:57:55] D:\\a\\1\\s\\src\\c_api\\c_api.cc:97: Writing file tu3.c...\n",
      "[13:57:55] D:\\a\\1\\s\\src\\c_api\\c_api.cc:97: Writing file tu4.c...\n",
      "[13:57:55] D:\\a\\1\\s\\src\\c_api\\c_api.cc:97: Writing file tu6.c...\n",
      "[13:57:55] D:\\a\\1\\s\\src\\c_api\\c_api.cc:97: Writing file tu7.c...\n",
      "[13:57:55] D:\\a\\1\\s\\src\\c_api\\c_api.cc:97: Writing file tu8.c...\n",
      "[13:57:55] D:\\a\\1\\s\\src\\c_api\\c_api.cc:97: Writing file tu9.c...\n",
      "[13:57:55] D:\\a\\1\\s\\src\\c_api\\c_api.cc:97: Writing file tu10.c...\n",
      "[13:57:55] D:\\a\\1\\s\\src\\c_api\\c_api.cc:97: Writing file tu11.c...\n",
      "[13:57:55] D:\\a\\1\\s\\src\\c_api\\c_api.cc:97: Writing file tu12.c...\n",
      "[13:57:55] D:\\a\\1\\s\\src\\c_api\\c_api.cc:97: Writing file tu13.c...\n",
      "[13:57:55] D:\\a\\1\\s\\src\\c_api\\c_api.cc:97: Writing file tu14.c...\n",
      "[13:57:55] D:\\a\\1\\s\\src\\c_api\\c_api.cc:97: Writing file tu15.c...\n",
      "[13:57:55] D:\\a\\1\\s\\src\\c_api\\c_api.cc:97: Writing file recipe.json...\n",
      "[13:57:55] c:\\Users\\damajercak\\.conda\\envs\\lightgbmbenchmark\\lib\\site-packages\\treelite\\contrib\\util.py:105: Compiling sources files in directory .\\tmpa3c08ggs into object files (*.obj)...\n",
      "[13:58:21] c:\\Users\\damajercak\\.conda\\envs\\lightgbmbenchmark\\lib\\site-packages\\treelite\\contrib\\util.py:135: Generating dynamic shared library .\\tmpa3c08ggs\\predictor.dll...\n",
      "[13:58:23] c:\\Users\\damajercak\\.conda\\envs\\lightgbmbenchmark\\lib\\site-packages\\treelite\\contrib\\__init__.py:282: Generated shared library in 28.49 seconds\n"
     ]
    }
   ],
   "source": [
    "import treelite, treelite_runtime\n",
    "\n",
    "model = treelite.Model.load(\n",
    "    model_path,\n",
    "    model_format=\"lightgbm\"\n",
    ")\n",
    "model.export_lib(\n",
    "    toolchain=\"msvc\",\n",
    "    libpath=model_path + \".so\",\n",
    "    verbose=True,\n",
    "    params={'parallel_comp':16}\n",
    ")"
   ]
  },
  {
   "cell_type": "code",
   "execution_count": 38,
   "metadata": {},
   "outputs": [
    {
     "name": "stdout",
     "output_type": "stream",
     "text": [
      "[13:59:32] c:\\Users\\damajercak\\.conda\\envs\\lightgbmbenchmark\\lib\\site-packages\\treelite_runtime\\predictor.py:159: Dynamic shared library c:\\Projects\\lightgbm-benchmark\\NiR4_OFE_LGBM_model.txt.so has been successfully loaded into memory\n"
     ]
    }
   ],
   "source": [
    "predictor = treelite_runtime.Predictor(\n",
    "    model_path + '.so',\n",
    "    verbose=True,\n",
    "    nthread=1\n",
    ")\n",
    "dmat = treelite_runtime.DMatrix(data.to_numpy())"
   ]
  },
  {
   "cell_type": "code",
   "execution_count": 40,
   "metadata": {},
   "outputs": [],
   "source": [
    "predictions_array_treelite =predictor.predict(dmat)"
   ]
  },
  {
   "cell_type": "code",
   "execution_count": 58,
   "metadata": {},
   "outputs": [
    {
     "name": "stderr",
     "output_type": "stream",
     "text": [
      "The maximum opset needed by this model is only 8.\n",
      "The maximum opset needed by this model is only 8.\n"
     ]
    },
    {
     "name": "stdout",
     "output_type": "stream",
     "text": [
      "[LightGBM] [Info] Construct bin mappers from text data time 2.43 seconds\n"
     ]
    }
   ],
   "source": [
    "from onnxconverter_common.data_types import FloatTensorType\n",
    "from onnxmltools.convert import convert_lightgbm\n",
    "import onnxruntime as ort\n",
    "import numpy as np\n",
    "\n",
    "with open(model_path, \"r\") as mf:\n",
    "    model_str = mf.read()\n",
    "    model_str = model_str.replace(\n",
    "        \"objective=lambdarank\", \"objective=regression\"\n",
    "    )\n",
    "booster_ort = lightgbm.Booster(model_str=model_str)\n",
    "\n",
    "onnx_input_types = [\n",
    "    (\n",
    "        \"input\",\n",
    "        FloatTensorType(\n",
    "            [1, inference_data.num_feature()]\n",
    "        ),\n",
    "    )\n",
    "]\n",
    "onnx_input_batch_types = [\n",
    "    (\n",
    "        \"input\",\n",
    "        FloatTensorType(\n",
    "            [inference_data.num_data(), inference_data.num_feature()]\n",
    "        ),\n",
    "    )\n",
    "]\n",
    "onnx_ml_model = convert_lightgbm(booster_ort, initial_types=onnx_input_types)\n",
    "onnx_ml_batch_model = convert_lightgbm(booster_ort, initial_types=onnx_input_batch_types)\n",
    "\n",
    "sess_options = ort.SessionOptions()\n",
    "sess_options.intra_op_num_threads = 0\n",
    "sess_options.inter_op_num_threads = 0\n",
    "\n",
    "sess_options.execution_mode = (\n",
    "    ort.ExecutionMode.ORT_SEQUENTIAL\n",
    ")\n",
    "sess_options.graph_optimization_level = (\n",
    "    ort.GraphOptimizationLevel.ORT_ENABLE_ALL\n",
    ")\n",
    "sessionml = ort.InferenceSession(\n",
    "    onnx_ml_model.SerializeToString(), sess_options\n",
    ")\n",
    "sessionml_batch = ort.InferenceSession(\n",
    "    onnx_ml_batch_model.SerializeToString(), sess_options\n",
    ")\n",
    "inference_data = lightgbm.Dataset(\n",
    "    data_path, free_raw_data=False\n",
    ").construct()\n",
    "inference_raw_data = inference_data.get_data()\n",
    "if type(inference_raw_data) == str:\n",
    "    inference_raw_data = np.loadtxt(\n",
    "        inference_raw_data, delimiter=\",\"\n",
    "    ).astype(np.float32)[:, : inference_data.num_feature()]"
   ]
  },
  {
   "cell_type": "code",
   "execution_count": 59,
   "metadata": {},
   "outputs": [],
   "source": [
    "predictions_array_ort = sessionml_batch.run(\n",
    "    [sessionml.get_outputs()[0].name],\n",
    "    {sessionml.get_inputs()[0].name: inference_raw_data},\n",
    ")[0][:, 0]"
   ]
  },
  {
   "cell_type": "code",
   "execution_count": 72,
   "metadata": {},
   "outputs": [
    {
     "data": {
      "text/plain": [
       "0.7666397998491448"
      ]
     },
     "execution_count": 72,
     "metadata": {},
     "output_type": "execute_result"
    }
   ],
   "source": [
    "time_inferencing_per_query = []\n",
    "for i in range(len(inference_raw_data)):\n",
    "    prediction_time = timeit.timeit(\n",
    "        lambda: sessionml.run(\n",
    "            [sessionml.get_outputs()[0].name],\n",
    "            {sessionml.get_inputs()[0].name: inference_raw_data[i : i + 1]},\n",
    "        ),\n",
    "        number=1,\n",
    "    )\n",
    "    time_inferencing_per_query.append(prediction_time/1)\n",
    "sum(time_inferencing_per_query)"
   ]
  },
  {
   "cell_type": "code",
   "execution_count": 71,
   "metadata": {},
   "outputs": [
    {
     "data": {
      "text/plain": [
       "0.400464499998634"
      ]
     },
     "execution_count": 71,
     "metadata": {},
     "output_type": "execute_result"
    }
   ],
   "source": [
    "timeit.timeit(lambda: sessionml_batch.run(\n",
    "    [sessionml.get_outputs()[0].name],\n",
    "    {sessionml.get_inputs()[0].name: inference_raw_data},\n",
    "), number=1)"
   ]
  },
  {
   "cell_type": "code",
   "execution_count": 52,
   "metadata": {},
   "outputs": [
    {
     "name": "stdout",
     "output_type": "stream",
     "text": [
      "[ 1.41436096 -0.27520206 -0.32896408 -0.08315643 -0.26660063 -0.30202675\n",
      " -0.22120572 -0.35424621 -0.25634644 -0.06725079]\n",
      "[ 1.7355299   0.2582493   0.28444618  0.51784474  0.49668223 -0.04218447\n",
      "  0.12811233  0.20044815 -0.10399695  0.61548153]\n",
      "[ 1.7355288   0.25824943  0.28444648  0.5178444   0.49668252 -0.04218467\n",
      "  0.12811226  0.20044814 -0.10399713  0.6154818 ]\n"
     ]
    }
   ],
   "source": [
    "print(predictions_array_lgbmpython[:10])\n",
    "print(predictions_array_treelite[:10])\n",
    "print(predictions_array_ort[:10])"
   ]
  },
  {
   "cell_type": "code",
   "execution_count": null,
   "metadata": {},
   "outputs": [],
   "source": []
  }
 ],
 "metadata": {
  "kernelspec": {
   "display_name": "Python 3.8.13 ('lightgbmbenchmark')",
   "language": "python",
   "name": "python3"
  },
  "language_info": {
   "codemirror_mode": {
    "name": "ipython",
    "version": 3
   },
   "file_extension": ".py",
   "mimetype": "text/x-python",
   "name": "python",
   "nbconvert_exporter": "python",
   "pygments_lexer": "ipython3",
   "version": "3.8.13"
  },
  "orig_nbformat": 4,
  "vscode": {
   "interpreter": {
    "hash": "218deddc5dc66f2d9cab81f1bf3043b58bb8ede28fae2157142347a8a27e0fa5"
   }
  }
 },
 "nbformat": 4,
 "nbformat_minor": 2
}
